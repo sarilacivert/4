{
 "cells": [
  {
   "cell_type": "markdown",
   "metadata": {},
   "source": [
    "# Unit 4 Unsupervised Learning Capstone DRAFT\n",
    "\n",
    "# Abstract\n",
    "\n",
    "Introductory Text to be Added"
   ]
  },
  {
   "cell_type": "markdown",
   "metadata": {},
   "source": [
    "# Importing and Setting Up the Models"
   ]
  },
  {
   "cell_type": "code",
   "execution_count": 34,
   "metadata": {},
   "outputs": [],
   "source": [
    "# Required imports\n",
    "import numpy as np\n",
    "import pandas as pd\n",
    "import scipy\n",
    "import matplotlib.pyplot as plt\n",
    "import seaborn as sns\n",
    "\n",
    "# Model imports\n",
    "from sklearn.cluster import KMeans\n",
    "from sklearn.preprocessing import normalize\n",
    "from sklearn.decomposition import PCA\n",
    "from sklearn.cluster import MiniBatchKMeans\n",
    "from sklearn.cluster import MeanShift, estimate_bandwidth\n",
    "from sklearn.cluster import SpectralClustering\n",
    "from sklearn.cluster import AffinityPropagation\n",
    "from sklearn import metrics\n",
    "%matplotlib inline"
   ]
  },
  {
   "cell_type": "code",
   "execution_count": 35,
   "metadata": {},
   "outputs": [
    {
     "data": {
      "text/plain": [
       "['Date',\n",
       " '1 mo',\n",
       " '3 mo',\n",
       " '6 mo',\n",
       " '1 yr',\n",
       " '2 yr',\n",
       " '3 yr',\n",
       " '5 yr',\n",
       " '7 yr',\n",
       " '10 yr',\n",
       " '20 yr',\n",
       " '30 yr']"
      ]
     },
     "execution_count": 35,
     "metadata": {},
     "output_type": "execute_result"
    }
   ],
   "source": [
    "# Load the file for analysis and view columns\n",
    "\n",
    "df = pd.read_csv('/Users/lacivert/4/usYld.csv')\n",
    "\n",
    "dfyields = pd.DataFrame(df)\n",
    "\n",
    "list(dfyields.columns.values)"
   ]
  },
  {
   "cell_type": "markdown",
   "metadata": {},
   "source": [
    "# Exploratory Data Analysis"
   ]
  },
  {
   "cell_type": "code",
   "execution_count": 36,
   "metadata": {},
   "outputs": [
    {
     "data": {
      "text/html": [
       "<div>\n",
       "<style scoped>\n",
       "    .dataframe tbody tr th:only-of-type {\n",
       "        vertical-align: middle;\n",
       "    }\n",
       "\n",
       "    .dataframe tbody tr th {\n",
       "        vertical-align: top;\n",
       "    }\n",
       "\n",
       "    .dataframe thead th {\n",
       "        text-align: right;\n",
       "    }\n",
       "</style>\n",
       "<table border=\"1\" class=\"dataframe\">\n",
       "  <thead>\n",
       "    <tr style=\"text-align: right;\">\n",
       "      <th></th>\n",
       "      <th>1 mo</th>\n",
       "      <th>3 mo</th>\n",
       "      <th>6 mo</th>\n",
       "      <th>1 yr</th>\n",
       "      <th>2 yr</th>\n",
       "      <th>3 yr</th>\n",
       "      <th>5 yr</th>\n",
       "      <th>7 yr</th>\n",
       "      <th>10 yr</th>\n",
       "      <th>20 yr</th>\n",
       "      <th>30 yr</th>\n",
       "    </tr>\n",
       "  </thead>\n",
       "  <tbody>\n",
       "    <tr>\n",
       "      <th>count</th>\n",
       "      <td>3279.000000</td>\n",
       "      <td>3279.000000</td>\n",
       "      <td>3279.000000</td>\n",
       "      <td>3279.000000</td>\n",
       "      <td>3279.000000</td>\n",
       "      <td>3279.000000</td>\n",
       "      <td>3279.000000</td>\n",
       "      <td>3279.000000</td>\n",
       "      <td>3279.000000</td>\n",
       "      <td>3279.000000</td>\n",
       "      <td>3279.000000</td>\n",
       "    </tr>\n",
       "    <tr>\n",
       "      <th>mean</th>\n",
       "      <td>1.063336</td>\n",
       "      <td>1.111568</td>\n",
       "      <td>1.217170</td>\n",
       "      <td>1.313403</td>\n",
       "      <td>1.534297</td>\n",
       "      <td>1.772482</td>\n",
       "      <td>2.260680</td>\n",
       "      <td>2.651766</td>\n",
       "      <td>3.009079</td>\n",
       "      <td>3.561253</td>\n",
       "      <td>3.720290</td>\n",
       "    </tr>\n",
       "    <tr>\n",
       "      <th>std</th>\n",
       "      <td>1.621294</td>\n",
       "      <td>1.634392</td>\n",
       "      <td>1.652907</td>\n",
       "      <td>1.603090</td>\n",
       "      <td>1.480207</td>\n",
       "      <td>1.392732</td>\n",
       "      <td>1.248467</td>\n",
       "      <td>1.134823</td>\n",
       "      <td>1.043992</td>\n",
       "      <td>1.028922</td>\n",
       "      <td>0.878123</td>\n",
       "    </tr>\n",
       "    <tr>\n",
       "      <th>min</th>\n",
       "      <td>0.000000</td>\n",
       "      <td>0.000000</td>\n",
       "      <td>0.020000</td>\n",
       "      <td>0.080000</td>\n",
       "      <td>0.160000</td>\n",
       "      <td>0.280000</td>\n",
       "      <td>0.560000</td>\n",
       "      <td>0.910000</td>\n",
       "      <td>1.370000</td>\n",
       "      <td>1.690000</td>\n",
       "      <td>2.110000</td>\n",
       "    </tr>\n",
       "    <tr>\n",
       "      <th>25%</th>\n",
       "      <td>0.040000</td>\n",
       "      <td>0.060000</td>\n",
       "      <td>0.110000</td>\n",
       "      <td>0.190000</td>\n",
       "      <td>0.470000</td>\n",
       "      <td>0.820000</td>\n",
       "      <td>1.400000</td>\n",
       "      <td>1.875000</td>\n",
       "      <td>2.190000</td>\n",
       "      <td>2.670000</td>\n",
       "      <td>2.970000</td>\n",
       "    </tr>\n",
       "    <tr>\n",
       "      <th>50%</th>\n",
       "      <td>0.150000</td>\n",
       "      <td>0.170000</td>\n",
       "      <td>0.300000</td>\n",
       "      <td>0.480000</td>\n",
       "      <td>0.870000</td>\n",
       "      <td>1.260000</td>\n",
       "      <td>1.830000</td>\n",
       "      <td>2.270000</td>\n",
       "      <td>2.740000</td>\n",
       "      <td>3.340000</td>\n",
       "      <td>3.580000</td>\n",
       "    </tr>\n",
       "    <tr>\n",
       "      <th>75%</th>\n",
       "      <td>1.640000</td>\n",
       "      <td>1.700000</td>\n",
       "      <td>1.860000</td>\n",
       "      <td>2.070000</td>\n",
       "      <td>2.290000</td>\n",
       "      <td>2.450000</td>\n",
       "      <td>2.770000</td>\n",
       "      <td>3.230000</td>\n",
       "      <td>3.730000</td>\n",
       "      <td>4.470000</td>\n",
       "      <td>4.530000</td>\n",
       "    </tr>\n",
       "    <tr>\n",
       "      <th>max</th>\n",
       "      <td>5.270000</td>\n",
       "      <td>5.190000</td>\n",
       "      <td>5.330000</td>\n",
       "      <td>5.300000</td>\n",
       "      <td>5.290000</td>\n",
       "      <td>5.260000</td>\n",
       "      <td>5.230000</td>\n",
       "      <td>5.230000</td>\n",
       "      <td>5.260000</td>\n",
       "      <td>5.910000</td>\n",
       "      <td>5.620000</td>\n",
       "    </tr>\n",
       "  </tbody>\n",
       "</table>\n",
       "</div>"
      ],
      "text/plain": [
       "              1 mo         3 mo         6 mo         1 yr         2 yr  \\\n",
       "count  3279.000000  3279.000000  3279.000000  3279.000000  3279.000000   \n",
       "mean      1.063336     1.111568     1.217170     1.313403     1.534297   \n",
       "std       1.621294     1.634392     1.652907     1.603090     1.480207   \n",
       "min       0.000000     0.000000     0.020000     0.080000     0.160000   \n",
       "25%       0.040000     0.060000     0.110000     0.190000     0.470000   \n",
       "50%       0.150000     0.170000     0.300000     0.480000     0.870000   \n",
       "75%       1.640000     1.700000     1.860000     2.070000     2.290000   \n",
       "max       5.270000     5.190000     5.330000     5.300000     5.290000   \n",
       "\n",
       "              3 yr         5 yr         7 yr        10 yr        20 yr  \\\n",
       "count  3279.000000  3279.000000  3279.000000  3279.000000  3279.000000   \n",
       "mean      1.772482     2.260680     2.651766     3.009079     3.561253   \n",
       "std       1.392732     1.248467     1.134823     1.043992     1.028922   \n",
       "min       0.280000     0.560000     0.910000     1.370000     1.690000   \n",
       "25%       0.820000     1.400000     1.875000     2.190000     2.670000   \n",
       "50%       1.260000     1.830000     2.270000     2.740000     3.340000   \n",
       "75%       2.450000     2.770000     3.230000     3.730000     4.470000   \n",
       "max       5.260000     5.230000     5.230000     5.260000     5.910000   \n",
       "\n",
       "             30 yr  \n",
       "count  3279.000000  \n",
       "mean      3.720290  \n",
       "std       0.878123  \n",
       "min       2.110000  \n",
       "25%       2.970000  \n",
       "50%       3.580000  \n",
       "75%       4.530000  \n",
       "max       5.620000  "
      ]
     },
     "execution_count": 36,
     "metadata": {},
     "output_type": "execute_result"
    }
   ],
   "source": [
    "dfyields.dropna(how='any', inplace=True)\n",
    "dfyields.describe()"
   ]
  },
  {
   "cell_type": "code",
   "execution_count": 37,
   "metadata": {},
   "outputs": [],
   "source": [
    "# TEXT TO ADDED ABOUT EDA"
   ]
  },
  {
   "cell_type": "code",
   "execution_count": 38,
   "metadata": {},
   "outputs": [
    {
     "data": {
      "text/html": [
       "<div>\n",
       "<style scoped>\n",
       "    .dataframe tbody tr th:only-of-type {\n",
       "        vertical-align: middle;\n",
       "    }\n",
       "\n",
       "    .dataframe tbody tr th {\n",
       "        vertical-align: top;\n",
       "    }\n",
       "\n",
       "    .dataframe thead th {\n",
       "        text-align: right;\n",
       "    }\n",
       "</style>\n",
       "<table border=\"1\" class=\"dataframe\">\n",
       "  <thead>\n",
       "    <tr style=\"text-align: right;\">\n",
       "      <th></th>\n",
       "      <th>Date</th>\n",
       "      <th>1 mo</th>\n",
       "      <th>3 mo</th>\n",
       "      <th>6 mo</th>\n",
       "      <th>1 yr</th>\n",
       "      <th>2 yr</th>\n",
       "      <th>3 yr</th>\n",
       "      <th>5 yr</th>\n",
       "      <th>7 yr</th>\n",
       "      <th>10 yr</th>\n",
       "      <th>20 yr</th>\n",
       "      <th>30 yr</th>\n",
       "    </tr>\n",
       "  </thead>\n",
       "  <tbody>\n",
       "    <tr>\n",
       "      <th>2899</th>\n",
       "      <td>7/31/01</td>\n",
       "      <td>3.67</td>\n",
       "      <td>3.54</td>\n",
       "      <td>3.47</td>\n",
       "      <td>3.53</td>\n",
       "      <td>3.79</td>\n",
       "      <td>4.06</td>\n",
       "      <td>4.57</td>\n",
       "      <td>4.86</td>\n",
       "      <td>5.07</td>\n",
       "      <td>5.61</td>\n",
       "      <td>5.51</td>\n",
       "    </tr>\n",
       "    <tr>\n",
       "      <th>2900</th>\n",
       "      <td>8/1/01</td>\n",
       "      <td>3.65</td>\n",
       "      <td>3.53</td>\n",
       "      <td>3.47</td>\n",
       "      <td>3.56</td>\n",
       "      <td>3.83</td>\n",
       "      <td>4.09</td>\n",
       "      <td>4.62</td>\n",
       "      <td>4.90</td>\n",
       "      <td>5.11</td>\n",
       "      <td>5.63</td>\n",
       "      <td>5.53</td>\n",
       "    </tr>\n",
       "    <tr>\n",
       "      <th>2901</th>\n",
       "      <td>8/2/01</td>\n",
       "      <td>3.65</td>\n",
       "      <td>3.53</td>\n",
       "      <td>3.46</td>\n",
       "      <td>3.57</td>\n",
       "      <td>3.89</td>\n",
       "      <td>4.17</td>\n",
       "      <td>4.69</td>\n",
       "      <td>4.97</td>\n",
       "      <td>5.17</td>\n",
       "      <td>5.68</td>\n",
       "      <td>5.57</td>\n",
       "    </tr>\n",
       "  </tbody>\n",
       "</table>\n",
       "</div>"
      ],
      "text/plain": [
       "         Date  1 mo  3 mo  6 mo  1 yr  2 yr  3 yr  5 yr  7 yr  10 yr  20 yr  \\\n",
       "2899  7/31/01  3.67  3.54  3.47  3.53  3.79  4.06  4.57  4.86   5.07   5.61   \n",
       "2900   8/1/01  3.65  3.53  3.47  3.56  3.83  4.09  4.62  4.90   5.11   5.63   \n",
       "2901   8/2/01  3.65  3.53  3.46  3.57  3.89  4.17  4.69  4.97   5.17   5.68   \n",
       "\n",
       "      30 yr  \n",
       "2899   5.51  \n",
       "2900   5.53  \n",
       "2901   5.57  "
      ]
     },
     "execution_count": 38,
     "metadata": {},
     "output_type": "execute_result"
    }
   ],
   "source": [
    "# the first dates\n",
    "dfyields.head(3)"
   ]
  },
  {
   "cell_type": "code",
   "execution_count": 39,
   "metadata": {},
   "outputs": [
    {
     "data": {
      "text/html": [
       "<div>\n",
       "<style scoped>\n",
       "    .dataframe tbody tr th:only-of-type {\n",
       "        vertical-align: middle;\n",
       "    }\n",
       "\n",
       "    .dataframe tbody tr th {\n",
       "        vertical-align: top;\n",
       "    }\n",
       "\n",
       "    .dataframe thead th {\n",
       "        text-align: right;\n",
       "    }\n",
       "</style>\n",
       "<table border=\"1\" class=\"dataframe\">\n",
       "  <thead>\n",
       "    <tr style=\"text-align: right;\">\n",
       "      <th></th>\n",
       "      <th>Date</th>\n",
       "      <th>1 mo</th>\n",
       "      <th>3 mo</th>\n",
       "      <th>6 mo</th>\n",
       "      <th>1 yr</th>\n",
       "      <th>2 yr</th>\n",
       "      <th>3 yr</th>\n",
       "      <th>5 yr</th>\n",
       "      <th>7 yr</th>\n",
       "      <th>10 yr</th>\n",
       "      <th>20 yr</th>\n",
       "      <th>30 yr</th>\n",
       "    </tr>\n",
       "  </thead>\n",
       "  <tbody>\n",
       "    <tr>\n",
       "      <th>7173</th>\n",
       "      <td>8/29/18</td>\n",
       "      <td>1.97</td>\n",
       "      <td>2.13</td>\n",
       "      <td>2.28</td>\n",
       "      <td>2.48</td>\n",
       "      <td>2.67</td>\n",
       "      <td>2.75</td>\n",
       "      <td>2.78</td>\n",
       "      <td>2.85</td>\n",
       "      <td>2.89</td>\n",
       "      <td>2.96</td>\n",
       "      <td>3.02</td>\n",
       "    </tr>\n",
       "    <tr>\n",
       "      <th>7174</th>\n",
       "      <td>8/30/18</td>\n",
       "      <td>1.97</td>\n",
       "      <td>2.11</td>\n",
       "      <td>2.28</td>\n",
       "      <td>2.47</td>\n",
       "      <td>2.64</td>\n",
       "      <td>2.72</td>\n",
       "      <td>2.75</td>\n",
       "      <td>2.82</td>\n",
       "      <td>2.86</td>\n",
       "      <td>2.93</td>\n",
       "      <td>3.00</td>\n",
       "    </tr>\n",
       "    <tr>\n",
       "      <th>7175</th>\n",
       "      <td>8/31/18</td>\n",
       "      <td>1.95</td>\n",
       "      <td>2.11</td>\n",
       "      <td>2.28</td>\n",
       "      <td>2.46</td>\n",
       "      <td>2.62</td>\n",
       "      <td>2.70</td>\n",
       "      <td>2.74</td>\n",
       "      <td>2.81</td>\n",
       "      <td>2.86</td>\n",
       "      <td>2.95</td>\n",
       "      <td>3.02</td>\n",
       "    </tr>\n",
       "  </tbody>\n",
       "</table>\n",
       "</div>"
      ],
      "text/plain": [
       "         Date  1 mo  3 mo  6 mo  1 yr  2 yr  3 yr  5 yr  7 yr  10 yr  20 yr  \\\n",
       "7173  8/29/18  1.97  2.13  2.28  2.48  2.67  2.75  2.78  2.85   2.89   2.96   \n",
       "7174  8/30/18  1.97  2.11  2.28  2.47  2.64  2.72  2.75  2.82   2.86   2.93   \n",
       "7175  8/31/18  1.95  2.11  2.28  2.46  2.62  2.70  2.74  2.81   2.86   2.95   \n",
       "\n",
       "      30 yr  \n",
       "7173   3.02  \n",
       "7174   3.00  \n",
       "7175   3.02  "
      ]
     },
     "execution_count": 39,
     "metadata": {},
     "output_type": "execute_result"
    }
   ],
   "source": [
    "# The last dates\n",
    "dfyields.tail(3)"
   ]
  },
  {
   "cell_type": "code",
   "execution_count": 40,
   "metadata": {},
   "outputs": [
    {
     "data": {
      "text/plain": [
       "1 mo     float64\n",
       "3 mo     float64\n",
       "6 mo     float64\n",
       "1 yr     float64\n",
       "2 yr     float64\n",
       "3 yr     float64\n",
       "5 yr     float64\n",
       "7 yr     float64\n",
       "10 yr    float64\n",
       "20 yr    float64\n",
       "30 yr    float64\n",
       "dtype: object"
      ]
     },
     "execution_count": 40,
     "metadata": {},
     "output_type": "execute_result"
    }
   ],
   "source": [
    "# drop the date column to keep the entire dataframe the same datatype, i.e. integers\n",
    "dfylds = dfyields.drop(columns=['Date'],axis=1)\n",
    "\n",
    "# print data types\n",
    "dfylds.dtypes"
   ]
  },
  {
   "cell_type": "code",
   "execution_count": 41,
   "metadata": {},
   "outputs": [],
   "source": [
    "# Setting up my variables\n",
    "\n",
    "one_month, three_month, six_month, one_year = df.loc[:,'1 mo'], df.loc[:,'3 mo'], df.loc[:,'6 mo'], df.loc[:,'1 yr']\n",
    "\n",
    "two_year, three_year, five_year, seven_year = df.loc[:,'2 yr'], df.loc[:,'3 yr'], df.loc[:,'5 yr'], df.loc[:,'7 yr']\n",
    "\n",
    "ten_year, twenty_year, thirty_year = df.loc[:,'10 yr'], df.loc[:,'20 yr'], df.loc[:,'30 yr']"
   ]
  },
  {
   "cell_type": "code",
   "execution_count": 42,
   "metadata": {},
   "outputs": [
    {
     "data": {
      "text/plain": [
       "['1 mo',\n",
       " '3 mo',\n",
       " '6 mo',\n",
       " '1 yr',\n",
       " '2 yr',\n",
       " '3 yr',\n",
       " '5 yr',\n",
       " '7 yr',\n",
       " '10 yr',\n",
       " '20 yr',\n",
       " '30 yr']"
      ]
     },
     "execution_count": 42,
     "metadata": {},
     "output_type": "execute_result"
    }
   ],
   "source": [
    "list(dfylds.columns.values)"
   ]
  },
  {
   "cell_type": "code",
   "execution_count": 43,
   "metadata": {},
   "outputs": [
    {
     "data": {
      "text/plain": [
       "<matplotlib.legend.Legend at 0x1a1e8a7780>"
      ]
     },
     "execution_count": 43,
     "metadata": {},
     "output_type": "execute_result"
    },
    {
     "data": {
      "image/png": "[encoded data removed]",
      "text/plain": [
       "<Figure size 432x288 with 1 Axes>"
      ]
     },
     "metadata": {},
     "output_type": "display_data"
    }
   ],
   "source": [
    "plt.plot (one_month)\n",
    "plt.plot (three_month)\n",
    "plt.plot (six_month)\n",
    "plt.plot (one_year)\n",
    "plt.plot (two_year)\n",
    "plt.plot (three_year)\n",
    "plt.plot (five_year)\n",
    "plt.plot (seven_year)\n",
    "plt.plot (ten_year)\n",
    "plt.plot (twenty_year)\n",
    "plt.plot (thirty_year)\n",
    "plt.xlabel ('Market Open Days', color='olivedrab')\n",
    "plt.ylabel ('Yield Curve Spot Rate Amounts', color='olivedrab')\n",
    "plt.title ('31 July 2001 - 30 August 2018', color='blue')\n",
    "plt.legend(loc='upper right', bbox_to_anchor=(1.25, 1.03)) "
   ]
  },
  {
   "cell_type": "markdown",
   "metadata": {},
   "source": [
    "# K - Means Clustering Algorithm\n",
    "\n",
    "Text to Added about K - Means"
   ]
  },
  {
   "cell_type": "code",
   "execution_count": 44,
   "metadata": {},
   "outputs": [
    {
     "data": {
      "image/png": "[encoded data removed]",
      "text/plain": [
       "<Figure size 432x288 with 1 Axes>"
      ]
     },
     "metadata": {},
     "output_type": "display_data"
    }
   ],
   "source": [
    "# K-Means begins by normalization of the data\n",
    "X_norm = normalize(dfylds)\n",
    "\n",
    "# Reduce it to 10 maturity points instead of 11 . . . maybe change 10 to 2?\n",
    "X_pca = PCA(10).fit_transform(X_norm)\n",
    "\n",
    "# Calculate predicted values . . . change random state to 100?\n",
    "y_pred = KMeans(n_clusters=2, random_state=42).fit_predict(X_pca)\n",
    "\n",
    "# Plot the solution . . . how does one interpret the blobs below?\n",
    "plt.scatter(X_pca[:, 0], X_pca[:, 1], c=y_pred)\n",
    "plt.show()"
   ]
  },
  {
   "cell_type": "markdown",
   "metadata": {},
   "source": [
    "# Means Shift Clustering Algorithm\n",
    "\n",
    "Text to be added"
   ]
  },
  {
   "cell_type": "code",
   "execution_count": 45,
   "metadata": {},
   "outputs": [
    {
     "name": "stdout",
     "output_type": "stream",
     "text": [
      "Number of estimated clusters: 3\n"
     ]
    }
   ],
   "source": [
    "# Set the bandwidth\n",
    "bandwidth = estimate_bandwidth(dfylds, quantile=0.2, n_samples=5000)\n",
    "\n",
    "# Declare and fit the model.\n",
    "ms = MeanShift(bandwidth=bandwidth, bin_seeding=True)\n",
    "ms.fit(dfylds)\n",
    "\n",
    "# Extract cluster assignments for each data point.\n",
    "labels = ms.labels_\n",
    "\n",
    "# Coordinates of the cluster centers.\n",
    "cluster_centers = ms.cluster_centers_\n",
    "\n",
    "# Count our clusters.\n",
    "n_clusters_ = len(np.unique(labels))\n",
    "\n",
    "print(\"Number of estimated clusters: {}\".format(n_clusters_))\n"
   ]
  },
  {
   "cell_type": "code",
   "execution_count": 46,
   "metadata": {},
   "outputs": [],
   "source": [
    "#plt.scatter(x argument to put here, y argument to put here, c=labels)\n",
    "#plt.show()\n",
    "\n",
    "# print('Comparing the assigned categories to the ones in the data:')\n",
    "# print(pd.crosstab(???,labels))"
   ]
  },
  {
   "cell_type": "markdown",
   "metadata": {},
   "source": [
    "# Spectral Clustering Algorithm\n",
    "\n",
    "Text to be added"
   ]
  },
  {
   "cell_type": "code",
   "execution_count": 47,
   "metadata": {},
   "outputs": [
    {
     "data": {
      "text/plain": [
       "SpectralClustering(affinity='rbf', assign_labels='kmeans', coef0=1, degree=3,\n",
       "          eigen_solver=None, eigen_tol=0.0, gamma=1.0, kernel_params=None,\n",
       "          n_clusters=2, n_init=10, n_jobs=1, n_neighbors=10,\n",
       "          random_state=None)"
      ]
     },
     "execution_count": 47,
     "metadata": {},
     "output_type": "execute_result"
    }
   ],
   "source": [
    "# Two clusters of the yield curve\n",
    "n_clusters=2\n",
    "\n",
    "# Declare and fit the model.\n",
    "sc = SpectralClustering(n_clusters=n_clusters)\n",
    "sc.fit(dfylds)"
   ]
  },
  {
   "cell_type": "code",
   "execution_count": 50,
   "metadata": {},
   "outputs": [
    {
     "data": {
      "text/plain": [
       "array([0, 0, 0, ..., 0, 0, 0], dtype=int32)"
      ]
     },
     "execution_count": 50,
     "metadata": {},
     "output_type": "execute_result"
    }
   ],
   "source": [
    "#Predicted clusters . . . Need to look into this\n",
    "predict=sc.fit_predict(dfylds)\n",
    "\n",
    "predict"
   ]
  },
  {
   "cell_type": "code",
   "execution_count": 51,
   "metadata": {},
   "outputs": [
    {
     "data": {
      "text/plain": [
       "[<matplotlib.lines.Line2D at 0x1a1cf30e48>]"
      ]
     },
     "execution_count": 51,
     "metadata": {},
     "output_type": "execute_result"
    },
    {
     "data": {
      "image/png": "[encoded data removed]",
      "text/plain": [
       "<Figure size 432x288 with 1 Axes>"
      ]
     },
     "metadata": {},
     "output_type": "display_data"
    }
   ],
   "source": [
    "plt.plot (predict)"
   ]
  },
  {
   "cell_type": "markdown",
   "metadata": {},
   "source": [
    "# Affinity Propagation Clustering Algorithm\n",
    "\n",
    "Text to be added"
   ]
  },
  {
   "cell_type": "code",
   "execution_count": 59,
   "metadata": {},
   "outputs": [
    {
     "name": "stdout",
     "output_type": "stream",
     "text": [
      "Done\n",
      "Estimated number of clusters: 343\n"
     ]
    }
   ],
   "source": [
    "# Declare the model and fit it in one statement.\n",
    "# Note that you can provide arguments to the model, but we didn't.\n",
    "af = AffinityPropagation().fit(dfylds)\n",
    "print('Done')\n",
    "\n",
    "# Pull the number of clusters and cluster assignments for each data point.\n",
    "cluster_centers_indices = af.cluster_centers_indices_\n",
    "n_clusters_ = len(cluster_centers_indices)\n",
    "labels = af.labels_\n",
    "\n",
    "print('Estimated number of clusters: {}'.format(n_clusters_))"
   ]
  },
  {
   "cell_type": "code",
   "execution_count": 60,
   "metadata": {},
   "outputs": [
    {
     "data": {
      "text/plain": [
       "[<matplotlib.lines.Line2D at 0x10a08ba58>]"
      ]
     },
     "execution_count": 60,
     "metadata": {},
     "output_type": "execute_result"
    },
    {
     "data": {
      "image/png": "[encoded data removed]",
      "text/plain": [
       "<Figure size 432x288 with 1 Axes>"
      ]
     },
     "metadata": {},
     "output_type": "display_data"
    }
   ],
   "source": [
    "# Need some work . . .\n",
    "plt.plot (cluster_centers_indices)"
   ]
  },
  {
   "cell_type": "markdown",
   "metadata": {},
   "source": [
    "# Mahalanobis Distance\n",
    "\n",
    "Text to be added"
   ]
  },
  {
   "cell_type": "code",
   "execution_count": 62,
   "metadata": {},
   "outputs": [],
   "source": [
    "from scipy.spatial.distance import mahalanobis"
   ]
  },
  {
   "cell_type": "code",
   "execution_count": 63,
   "metadata": {},
   "outputs": [],
   "source": [
    "# Worry about this later, may need to drop a vector, a maturity point of the eleven for covariance matrix"
   ]
  },
  {
   "cell_type": "code",
   "execution_count": null,
   "metadata": {},
   "outputs": [],
   "source": []
  }
 ],
 "metadata": {
  "kernelspec": {
   "display_name": "Python 3",
   "language": "python",
   "name": "python3"
  },
  "language_info": {
   "codemirror_mode": {
    "name": "ipython",
    "version": 3
   },
   "file_extension": ".py",
   "mimetype": "text/x-python",
   "name": "python",
   "nbconvert_exporter": "python",
   "pygments_lexer": "ipython3",
   "version": "3.6.4"
  }
 },
 "nbformat": 4,
 "nbformat_minor": 2
}
