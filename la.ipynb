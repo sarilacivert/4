{
  "nbformat": 4,
  "nbformat_minor": 0,
  "metadata": {
    "colab": {
      "name": "la.ipynb",
      "provenance": [],
      "collapsed_sections": [],
      "mount_file_id": "1ObxYg2WvzRDI3Jd7zzDPxxSbbdynlIWS",
      "authorship_tag": "ABX9TyPMh0imlGPX3xCeAwCiHXza",
      "include_colab_link": true
    },
    "kernelspec": {
      "name": "python3",
      "display_name": "Python 3"
    },
    "language_info": {
      "name": "python"
    }
  },
  "cells": [
    {
      "cell_type": "markdown",
      "metadata": {
        "id": "view-in-github",
        "colab_type": "text"
      },
      "source": [
        "<a href=\"https://colab.research.google.com/github/sarilacivert/4/blob/master/la.ipynb\" target=\"_parent\"><img src=\"https://colab.research.google.com/assets/colab-badge.svg\" alt=\"Open In Colab\"/></a>"
      ]
    },
    {
      "cell_type": "code",
      "execution_count": null,
      "metadata": {
        "colab": {
          "base_uri": "https://localhost:8080/",
          "height": 295
        },
        "id": "T4WPTwT6_rqN",
        "outputId": "cb1f07bf-c857-4cea-f326-292fe2820ff4"
      },
      "outputs": [
        {
          "output_type": "display_data",
          "data": {
            "image/png": "[encoded data removed]",
            "text/plain": [
              "<Figure size 432x288 with 1 Axes>"
            ]
          },
          "metadata": {
            "needs_background": "light"
          }
        }
      ],
      "source": [
        "import pandas\n",
        "import matplotlib.pyplot as plt\n",
        "dataset = pandas.read_csv('/content/sample_data/la.csv', usecols=[1], engine='python')\n",
        "plt.plot(dataframe, linewidth=2, markevery=24, marker='o', color='dodgerblue')\n",
        "plt.ylabel('Median Sales Price', fontweight='bold', color='dodgerblue')\n",
        "plt.xlabel('Monthly Sales from January 1987 to December 2021',fontweight='bold', color='dodgerblue')\n",
        "plt.title('Los Angeles', fontweight='bold', color='dodgerblue')\n",
        "plt.show()"
      ]
    },
    {
      "cell_type": "markdown",
      "source": [
        "# TEST"
      ],
      "metadata": {
        "id": "jBBc1b1HD-Tv"
      }
    },
    {
      "cell_type": "code",
      "source": [
        "import numpy\n",
        "import matplotlib.pyplot as plt\n",
        "import pandas\n",
        "import math\n",
        "from keras.models import Sequential\n",
        "from keras.layers import Dense\n",
        "from keras.layers import LSTM\n",
        "from sklearn.preprocessing import MinMaxScaler\n",
        "from sklearn.metrics import mean_squared_error"
      ],
      "metadata": {
        "id": "3iYx_Oh4Fl2U"
      },
      "execution_count": 1,
      "outputs": []
    },
    {
      "cell_type": "code",
      "source": [
        "# fix random seed for reproducibility\n",
        "numpy.random.seed(7)"
      ],
      "metadata": {
        "id": "RwVHxLqAFnLl"
      },
      "execution_count": 2,
      "outputs": []
    },
    {
      "cell_type": "code",
      "source": [
        "dataframe = pandas.read_csv('/content/sample_data/la.csv', usecols=[1], engine='python')\n",
        "dataset = dataframe.values\n",
        "dataset = dataset.astype('float32')"
      ],
      "metadata": {
        "id": "kWHSKSjNFsws"
      },
      "execution_count": 4,
      "outputs": []
    },
    {
      "cell_type": "code",
      "source": [
        "dataframe.info()"
      ],
      "metadata": {
        "colab": {
          "base_uri": "https://localhost:8080/"
        },
        "id": "WrbR7CuGOjWG",
        "outputId": "83df2eeb-ac99-4871-a14e-40eeddd48c77"
      },
      "execution_count": 5,
      "outputs": [
        {
          "output_type": "stream",
          "name": "stdout",
          "text": [
            "<class 'pandas.core.frame.DataFrame'>\n",
            "RangeIndex: 420 entries, 0 to 419\n",
            "Data columns (total 1 columns):\n",
            " #   Column  Non-Null Count  Dtype  \n",
            "---  ------  --------------  -----  \n",
            " 0   LXXRSA  420 non-null    float64\n",
            "dtypes: float64(1)\n",
            "memory usage: 3.4 KB\n"
          ]
        }
      ]
    },
    {
      "cell_type": "code",
      "source": [
        "plt.hist(dataframe['LXXRSA'], color = 'dodgerblue')"
      ],
      "metadata": {
        "colab": {
          "base_uri": "https://localhost:8080/",
          "height": 357
        },
        "id": "89Fvzg-8nKSm",
        "outputId": "5e192d7b-6779-4eb8-f31f-638028076979"
      },
      "execution_count": 6,
      "outputs": [
        {
          "output_type": "execute_result",
          "data": {
            "text/plain": [
              "(array([107.,  74.,  17.,  63.,  29.,  44.,  54.,  19.,   6.,   7.]),\n",
              " array([ 59.42622437,  91.57365238, 123.7210804 , 155.86850841,\n",
              "        188.01593642, 220.16336444, 252.31079245, 284.45822046,\n",
              "        316.60564847, 348.75307649, 380.9005045 ]),\n",
              " <a list of 10 Patch objects>)"
            ]
          },
          "metadata": {},
          "execution_count": 6
        },
        {
          "output_type": "display_data",
          "data": {
            "image/png": "[encoded data removed]",
            "text/plain": [
              "<Figure size 432x288 with 1 Axes>"
            ]
          },
          "metadata": {
            "needs_background": "light"
          }
        }
      ]
    },
    {
      "cell_type": "code",
      "source": [
        "import seaborn as sns\n",
        "sns.boxplot(dataframe['LXXRSA'], color='dodgerblue')"
      ],
      "metadata": {
        "colab": {
          "base_uri": "https://localhost:8080/",
          "height": 354
        },
        "id": "4hKApBOEqZkD",
        "outputId": "1cfe8db3-34a1-4a08-89e0-5595322fbe53"
      },
      "execution_count": 7,
      "outputs": [
        {
          "output_type": "stream",
          "name": "stderr",
          "text": [
            "/usr/local/lib/python3.7/dist-packages/seaborn/_decorators.py:43: FutureWarning: Pass the following variable as a keyword arg: x. From version 0.12, the only valid positional argument will be `data`, and passing other arguments without an explicit keyword will result in an error or misinterpretation.\n",
            "  FutureWarning\n"
          ]
        },
        {
          "output_type": "execute_result",
          "data": {
            "text/plain": [
              "<matplotlib.axes._subplots.AxesSubplot at 0x7fae9bbcf1d0>"
            ]
          },
          "metadata": {},
          "execution_count": 7
        },
        {
          "output_type": "display_data",
          "data": {
            "image/png": "[encoded data removed]",
            "text/plain": [
              "<Figure size 432x288 with 1 Axes>"
            ]
          },
          "metadata": {
            "needs_background": "light"
          }
        }
      ]
    },
    {
      "cell_type": "code",
      "source": [
        "from statsmodels.tsa.stattools import adfuller\n",
        "\n",
        "# test run for stationarity\n",
        "result = adfuller(dataframe['LXXRSA'])\n",
        "\n",
        "# print the results\n",
        "print ('ADF Statistic: %f' % result[0])\n",
        "print ('p-value: %f' % result[1])\n",
        "print ('Critical Values:')\n",
        "for key, value in result[4].items():\n",
        "  print('\\t%s: %.3f' % (key,value))\n",
        "\n"
      ],
      "metadata": {
        "colab": {
          "base_uri": "https://localhost:8080/"
        },
        "id": "c-HazL2ejvMV",
        "outputId": "614b8fc4-e390-466e-f1e3-7ae20e038e6b"
      },
      "execution_count": 8,
      "outputs": [
        {
          "output_type": "stream",
          "name": "stdout",
          "text": [
            "ADF Statistic: 0.556209\n",
            "p-value: 0.986485\n",
            "Critical Values:\n",
            "\t1%: -3.447\n",
            "\t5%: -2.869\n",
            "\t10%: -2.571\n"
          ]
        },
        {
          "output_type": "stream",
          "name": "stderr",
          "text": [
            "/usr/local/lib/python3.7/dist-packages/statsmodels/tools/_testing.py:19: FutureWarning: pandas.util.testing is deprecated. Use the functions in the public API at pandas.testing instead.\n",
            "  import pandas.util.testing as tm\n"
          ]
        }
      ]
    },
    {
      "cell_type": "markdown",
      "source": [
        "Non - Stationary dataset because p - value is greater than 0.05"
      ],
      "metadata": {
        "id": "MzENuGZAm8xg"
      }
    },
    {
      "cell_type": "code",
      "source": [
        "from scipy.stats import jarque_bera\n",
        "\n",
        "# normality test\n",
        "stat, p = jarque_bera(dataframe['LXXRSA'])\n",
        "print('Statistics=%.3f, p=%.3f' % (stat, p))\n",
        "\n",
        "# interpret\n",
        "alpha = 0.05\n",
        "if p > alpha:\n",
        "\tprint('Sample looks Gaussian (fail to reject H0)')\n",
        "else:\n",
        "\tprint('Sample does not look Gaussian (reject H0)')"
      ],
      "metadata": {
        "colab": {
          "base_uri": "https://localhost:8080/"
        },
        "id": "FBirWXSGjvOz",
        "outputId": "471d571f-eb97-4a49-88e7-44ab218d6e24"
      },
      "execution_count": 9,
      "outputs": [
        {
          "output_type": "stream",
          "name": "stdout",
          "text": [
            "Statistics=31.763, p=0.000\n",
            "Sample does not look Gaussian (reject H0)\n"
          ]
        }
      ]
    },
    {
      "cell_type": "code",
      "source": [
        "dataframe['LXXRSA'].skew(), dataframe['LXXRSA'].kurt()"
      ],
      "metadata": {
        "colab": {
          "base_uri": "https://localhost:8080/"
        },
        "id": "asTa1G2MjvVd",
        "outputId": "6b4eea91-46d6-42c3-b6ae-5d1b78fdeea3"
      },
      "execution_count": 10,
      "outputs": [
        {
          "output_type": "execute_result",
          "data": {
            "text/plain": [
              "(0.45251330427603176, -0.9985013465659076)"
            ]
          },
          "metadata": {},
          "execution_count": 10
        }
      ]
    },
    {
      "cell_type": "code",
      "source": [
        ""
      ],
      "metadata": {
        "id": "pCoKoG5yjvaA"
      },
      "execution_count": 10,
      "outputs": []
    },
    {
      "cell_type": "code",
      "source": [
        "# normalize the dataset\n",
        "scaler = MinMaxScaler(feature_range=(0, 1))\n",
        "dataset = scaler.fit_transform(dataset)"
      ],
      "metadata": {
        "id": "1vDfFu5gF8yq"
      },
      "execution_count": 11,
      "outputs": []
    },
    {
      "cell_type": "code",
      "source": [
        "# split into train and test sets\n",
        "train_size = int(len(dataset) * 0.67)\n",
        "test_size = len(dataset) - train_size\n",
        "train, test = dataset[0:train_size,:], dataset[train_size:len(dataset),:]\n",
        "print(len(train), len(test))"
      ],
      "metadata": {
        "colab": {
          "base_uri": "https://localhost:8080/"
        },
        "id": "XkSnJ_O6GCCZ",
        "outputId": "164f1c8b-f740-4681-adb7-e389c353f817"
      },
      "execution_count": 12,
      "outputs": [
        {
          "output_type": "stream",
          "name": "stdout",
          "text": [
            "281 139\n"
          ]
        }
      ]
    },
    {
      "cell_type": "code",
      "source": [
        "# convert an array of values into a dataset matrix\n",
        "def create_dataset(dataset, look_back=1):\n",
        "\tdataX, dataY = [], []\n",
        "\tfor i in range(len(dataset)-look_back-1):\n",
        "\t\ta = dataset[i:(i+look_back), 0]\n",
        "\t\tdataX.append(a)\n",
        "\t\tdataY.append(dataset[i + look_back, 0])\n",
        "\treturn numpy.array(dataX), numpy.array(dataY)"
      ],
      "metadata": {
        "id": "gDP0o54XGGBQ"
      },
      "execution_count": 13,
      "outputs": []
    },
    {
      "cell_type": "code",
      "source": [
        "# reshape into X=t and Y=t+1\n",
        "look_back = 1\n",
        "trainX, trainY = create_dataset(train, look_back)\n",
        "testX, testY = create_dataset(test, look_back)"
      ],
      "metadata": {
        "id": "8013b7shGM97"
      },
      "execution_count": 14,
      "outputs": []
    },
    {
      "cell_type": "code",
      "source": [
        "# reshape input to be [samples, time steps, features]\n",
        "trainX = numpy.reshape(trainX, (trainX.shape[0], 1, trainX.shape[1]))\n",
        "testX = numpy.reshape(testX, (testX.shape[0], 1, testX.shape[1]))"
      ],
      "metadata": {
        "id": "0rBSFRpgGRA2"
      },
      "execution_count": 15,
      "outputs": []
    },
    {
      "cell_type": "code",
      "source": [
        "# create and fit the LSTM network\n",
        "model = Sequential()\n",
        "model.add(LSTM(4, input_shape=(1, look_back)))\n",
        "model.add(Dense(1))\n",
        "model.compile(loss='mean_squared_error', optimizer='adam')\n",
        "model.fit(trainX, trainY, epochs=100, batch_size=1, verbose=2)\n"
      ],
      "metadata": {
        "colab": {
          "base_uri": "https://localhost:8080/"
        },
        "id": "XpnmQiq4GVDD",
        "outputId": "1813e31e-4f19-4e91-caf3-4dd3a16e550b"
      },
      "execution_count": 16,
      "outputs": [
        {
          "output_type": "stream",
          "name": "stdout",
          "text": [
            "Epoch 1/100\n",
            "279/279 - 2s - loss: 0.0407 - 2s/epoch - 7ms/step\n",
            "Epoch 2/100\n",
            "279/279 - 0s - loss: 0.0237 - 336ms/epoch - 1ms/step\n",
            "Epoch 3/100\n",
            "279/279 - 0s - loss: 0.0164 - 320ms/epoch - 1ms/step\n",
            "Epoch 4/100\n",
            "279/279 - 0s - loss: 0.0097 - 321ms/epoch - 1ms/step\n",
            "Epoch 5/100\n",
            "279/279 - 0s - loss: 0.0045 - 316ms/epoch - 1ms/step\n",
            "Epoch 6/100\n",
            "279/279 - 0s - loss: 0.0015 - 297ms/epoch - 1ms/step\n",
            "Epoch 7/100\n",
            "279/279 - 0s - loss: 3.6811e-04 - 296ms/epoch - 1ms/step\n",
            "Epoch 8/100\n",
            "279/279 - 0s - loss: 9.5353e-05 - 307ms/epoch - 1ms/step\n",
            "Epoch 9/100\n",
            "279/279 - 0s - loss: 5.8026e-05 - 320ms/epoch - 1ms/step\n",
            "Epoch 10/100\n",
            "279/279 - 0s - loss: 5.6593e-05 - 325ms/epoch - 1ms/step\n",
            "Epoch 11/100\n",
            "279/279 - 0s - loss: 5.5887e-05 - 332ms/epoch - 1ms/step\n",
            "Epoch 12/100\n",
            "279/279 - 0s - loss: 5.3842e-05 - 314ms/epoch - 1ms/step\n",
            "Epoch 13/100\n",
            "279/279 - 0s - loss: 5.4419e-05 - 307ms/epoch - 1ms/step\n",
            "Epoch 14/100\n",
            "279/279 - 0s - loss: 5.6282e-05 - 312ms/epoch - 1ms/step\n",
            "Epoch 15/100\n",
            "279/279 - 0s - loss: 5.7125e-05 - 310ms/epoch - 1ms/step\n",
            "Epoch 16/100\n",
            "279/279 - 0s - loss: 5.6000e-05 - 317ms/epoch - 1ms/step\n",
            "Epoch 17/100\n",
            "279/279 - 0s - loss: 5.7404e-05 - 289ms/epoch - 1ms/step\n",
            "Epoch 18/100\n",
            "279/279 - 0s - loss: 5.5823e-05 - 286ms/epoch - 1ms/step\n",
            "Epoch 19/100\n",
            "279/279 - 0s - loss: 5.4008e-05 - 288ms/epoch - 1ms/step\n",
            "Epoch 20/100\n",
            "279/279 - 0s - loss: 5.3812e-05 - 315ms/epoch - 1ms/step\n",
            "Epoch 21/100\n",
            "279/279 - 0s - loss: 6.0278e-05 - 336ms/epoch - 1ms/step\n",
            "Epoch 22/100\n",
            "279/279 - 0s - loss: 5.2577e-05 - 326ms/epoch - 1ms/step\n",
            "Epoch 23/100\n",
            "279/279 - 0s - loss: 6.0057e-05 - 319ms/epoch - 1ms/step\n",
            "Epoch 24/100\n",
            "279/279 - 0s - loss: 5.5056e-05 - 320ms/epoch - 1ms/step\n",
            "Epoch 25/100\n",
            "279/279 - 0s - loss: 6.0947e-05 - 331ms/epoch - 1ms/step\n",
            "Epoch 26/100\n",
            "279/279 - 0s - loss: 5.8256e-05 - 333ms/epoch - 1ms/step\n",
            "Epoch 27/100\n",
            "279/279 - 0s - loss: 5.9475e-05 - 344ms/epoch - 1ms/step\n",
            "Epoch 28/100\n",
            "279/279 - 0s - loss: 5.6327e-05 - 346ms/epoch - 1ms/step\n",
            "Epoch 29/100\n",
            "279/279 - 0s - loss: 5.3247e-05 - 335ms/epoch - 1ms/step\n",
            "Epoch 30/100\n",
            "279/279 - 0s - loss: 6.0802e-05 - 348ms/epoch - 1ms/step\n",
            "Epoch 31/100\n",
            "279/279 - 0s - loss: 5.6609e-05 - 359ms/epoch - 1ms/step\n",
            "Epoch 32/100\n",
            "279/279 - 0s - loss: 6.3022e-05 - 355ms/epoch - 1ms/step\n",
            "Epoch 33/100\n",
            "279/279 - 0s - loss: 6.0714e-05 - 360ms/epoch - 1ms/step\n",
            "Epoch 34/100\n",
            "279/279 - 0s - loss: 5.6590e-05 - 351ms/epoch - 1ms/step\n",
            "Epoch 35/100\n",
            "279/279 - 0s - loss: 6.2202e-05 - 346ms/epoch - 1ms/step\n",
            "Epoch 36/100\n",
            "279/279 - 0s - loss: 5.5068e-05 - 348ms/epoch - 1ms/step\n",
            "Epoch 37/100\n",
            "279/279 - 0s - loss: 5.6759e-05 - 367ms/epoch - 1ms/step\n",
            "Epoch 38/100\n",
            "279/279 - 0s - loss: 5.6387e-05 - 361ms/epoch - 1ms/step\n",
            "Epoch 39/100\n",
            "279/279 - 0s - loss: 6.0320e-05 - 363ms/epoch - 1ms/step\n",
            "Epoch 40/100\n",
            "279/279 - 0s - loss: 6.3437e-05 - 355ms/epoch - 1ms/step\n",
            "Epoch 41/100\n",
            "279/279 - 0s - loss: 5.8760e-05 - 340ms/epoch - 1ms/step\n",
            "Epoch 42/100\n",
            "279/279 - 0s - loss: 5.7200e-05 - 355ms/epoch - 1ms/step\n",
            "Epoch 43/100\n",
            "279/279 - 0s - loss: 5.7174e-05 - 338ms/epoch - 1ms/step\n",
            "Epoch 44/100\n",
            "279/279 - 0s - loss: 5.5379e-05 - 360ms/epoch - 1ms/step\n",
            "Epoch 45/100\n",
            "279/279 - 0s - loss: 6.0438e-05 - 351ms/epoch - 1ms/step\n",
            "Epoch 46/100\n",
            "279/279 - 0s - loss: 5.3558e-05 - 357ms/epoch - 1ms/step\n",
            "Epoch 47/100\n",
            "279/279 - 0s - loss: 5.5882e-05 - 351ms/epoch - 1ms/step\n",
            "Epoch 48/100\n",
            "279/279 - 0s - loss: 6.1816e-05 - 361ms/epoch - 1ms/step\n",
            "Epoch 49/100\n",
            "279/279 - 0s - loss: 5.6362e-05 - 359ms/epoch - 1ms/step\n",
            "Epoch 50/100\n",
            "279/279 - 0s - loss: 5.3836e-05 - 359ms/epoch - 1ms/step\n",
            "Epoch 51/100\n",
            "279/279 - 0s - loss: 5.8945e-05 - 353ms/epoch - 1ms/step\n",
            "Epoch 52/100\n",
            "279/279 - 0s - loss: 5.9005e-05 - 352ms/epoch - 1ms/step\n",
            "Epoch 53/100\n",
            "279/279 - 0s - loss: 5.8807e-05 - 358ms/epoch - 1ms/step\n",
            "Epoch 54/100\n",
            "279/279 - 0s - loss: 6.0402e-05 - 349ms/epoch - 1ms/step\n",
            "Epoch 55/100\n",
            "279/279 - 0s - loss: 5.7152e-05 - 358ms/epoch - 1ms/step\n",
            "Epoch 56/100\n",
            "279/279 - 0s - loss: 5.6207e-05 - 361ms/epoch - 1ms/step\n",
            "Epoch 57/100\n",
            "279/279 - 0s - loss: 6.0643e-05 - 362ms/epoch - 1ms/step\n",
            "Epoch 58/100\n",
            "279/279 - 0s - loss: 5.7722e-05 - 353ms/epoch - 1ms/step\n",
            "Epoch 59/100\n",
            "279/279 - 0s - loss: 6.3111e-05 - 350ms/epoch - 1ms/step\n",
            "Epoch 60/100\n",
            "279/279 - 0s - loss: 5.6716e-05 - 361ms/epoch - 1ms/step\n",
            "Epoch 61/100\n",
            "279/279 - 0s - loss: 6.2967e-05 - 363ms/epoch - 1ms/step\n",
            "Epoch 62/100\n",
            "279/279 - 0s - loss: 5.5108e-05 - 362ms/epoch - 1ms/step\n",
            "Epoch 63/100\n",
            "279/279 - 0s - loss: 5.6550e-05 - 346ms/epoch - 1ms/step\n",
            "Epoch 64/100\n",
            "279/279 - 0s - loss: 5.6318e-05 - 344ms/epoch - 1ms/step\n",
            "Epoch 65/100\n",
            "279/279 - 0s - loss: 6.0059e-05 - 337ms/epoch - 1ms/step\n",
            "Epoch 66/100\n",
            "279/279 - 0s - loss: 6.1431e-05 - 328ms/epoch - 1ms/step\n",
            "Epoch 67/100\n",
            "279/279 - 0s - loss: 6.7051e-05 - 346ms/epoch - 1ms/step\n",
            "Epoch 68/100\n",
            "279/279 - 0s - loss: 6.1256e-05 - 349ms/epoch - 1ms/step\n",
            "Epoch 69/100\n",
            "279/279 - 0s - loss: 5.9327e-05 - 356ms/epoch - 1ms/step\n",
            "Epoch 70/100\n",
            "279/279 - 0s - loss: 5.9804e-05 - 353ms/epoch - 1ms/step\n",
            "Epoch 71/100\n",
            "279/279 - 0s - loss: 5.3941e-05 - 346ms/epoch - 1ms/step\n",
            "Epoch 72/100\n",
            "279/279 - 0s - loss: 5.7465e-05 - 355ms/epoch - 1ms/step\n",
            "Epoch 73/100\n",
            "279/279 - 0s - loss: 5.8560e-05 - 347ms/epoch - 1ms/step\n",
            "Epoch 74/100\n",
            "279/279 - 0s - loss: 6.1503e-05 - 354ms/epoch - 1ms/step\n",
            "Epoch 75/100\n",
            "279/279 - 0s - loss: 5.8239e-05 - 367ms/epoch - 1ms/step\n",
            "Epoch 76/100\n",
            "279/279 - 0s - loss: 5.8569e-05 - 359ms/epoch - 1ms/step\n",
            "Epoch 77/100\n",
            "279/279 - 0s - loss: 5.9869e-05 - 366ms/epoch - 1ms/step\n",
            "Epoch 78/100\n",
            "279/279 - 0s - loss: 5.7864e-05 - 340ms/epoch - 1ms/step\n",
            "Epoch 79/100\n",
            "279/279 - 0s - loss: 5.9862e-05 - 360ms/epoch - 1ms/step\n",
            "Epoch 80/100\n",
            "279/279 - 0s - loss: 6.3746e-05 - 365ms/epoch - 1ms/step\n",
            "Epoch 81/100\n",
            "279/279 - 0s - loss: 5.9774e-05 - 366ms/epoch - 1ms/step\n",
            "Epoch 82/100\n",
            "279/279 - 0s - loss: 5.8812e-05 - 367ms/epoch - 1ms/step\n",
            "Epoch 83/100\n",
            "279/279 - 0s - loss: 5.8686e-05 - 347ms/epoch - 1ms/step\n",
            "Epoch 84/100\n",
            "279/279 - 0s - loss: 5.5807e-05 - 328ms/epoch - 1ms/step\n",
            "Epoch 85/100\n",
            "279/279 - 0s - loss: 5.6782e-05 - 340ms/epoch - 1ms/step\n",
            "Epoch 86/100\n",
            "279/279 - 0s - loss: 5.9331e-05 - 330ms/epoch - 1ms/step\n",
            "Epoch 87/100\n",
            "279/279 - 0s - loss: 5.9667e-05 - 356ms/epoch - 1ms/step\n",
            "Epoch 88/100\n",
            "279/279 - 0s - loss: 5.8408e-05 - 362ms/epoch - 1ms/step\n",
            "Epoch 89/100\n",
            "279/279 - 0s - loss: 5.8833e-05 - 347ms/epoch - 1ms/step\n",
            "Epoch 90/100\n",
            "279/279 - 0s - loss: 5.7208e-05 - 341ms/epoch - 1ms/step\n",
            "Epoch 91/100\n",
            "279/279 - 0s - loss: 5.7931e-05 - 358ms/epoch - 1ms/step\n",
            "Epoch 92/100\n",
            "279/279 - 0s - loss: 6.1072e-05 - 343ms/epoch - 1ms/step\n",
            "Epoch 93/100\n",
            "279/279 - 0s - loss: 5.7951e-05 - 344ms/epoch - 1ms/step\n",
            "Epoch 94/100\n",
            "279/279 - 0s - loss: 6.4813e-05 - 354ms/epoch - 1ms/step\n",
            "Epoch 95/100\n",
            "279/279 - 0s - loss: 5.5749e-05 - 349ms/epoch - 1ms/step\n",
            "Epoch 96/100\n",
            "279/279 - 0s - loss: 5.5566e-05 - 348ms/epoch - 1ms/step\n",
            "Epoch 97/100\n",
            "279/279 - 0s - loss: 5.7140e-05 - 356ms/epoch - 1ms/step\n",
            "Epoch 98/100\n",
            "279/279 - 0s - loss: 6.0173e-05 - 365ms/epoch - 1ms/step\n",
            "Epoch 99/100\n",
            "279/279 - 0s - loss: 6.0275e-05 - 346ms/epoch - 1ms/step\n",
            "Epoch 100/100\n",
            "279/279 - 0s - loss: 5.4318e-05 - 348ms/epoch - 1ms/step\n"
          ]
        },
        {
          "output_type": "execute_result",
          "data": {
            "text/plain": [
              "<keras.callbacks.History at 0x7fae7134c250>"
            ]
          },
          "metadata": {},
          "execution_count": 16
        }
      ]
    },
    {
      "cell_type": "code",
      "source": [
        "# from public GitHub"
      ],
      "metadata": {
        "id": "jxIigt1ooyl7"
      },
      "execution_count": 17,
      "outputs": []
    },
    {
      "cell_type": "code",
      "source": [
        "# make predictions\n",
        "trainPredict = model.predict(trainX)\n",
        "testPredict = model.predict(testX)"
      ],
      "metadata": {
        "id": "lVnNZTNEGaJ9"
      },
      "execution_count": 18,
      "outputs": []
    },
    {
      "cell_type": "code",
      "source": [
        "# invert predictions\n",
        "trainPredict = scaler.inverse_transform(trainPredict)\n",
        "trainY = scaler.inverse_transform([trainY])\n",
        "testPredict = scaler.inverse_transform(testPredict)\n",
        "testY = scaler.inverse_transform([testY])"
      ],
      "metadata": {
        "id": "vDiFewECGmna"
      },
      "execution_count": 19,
      "outputs": []
    },
    {
      "cell_type": "code",
      "source": [
        "# calculate root mean squared error\n",
        "trainScore = math.sqrt(mean_squared_error(trainY[0], trainPredict[:,0]))\n",
        "print('Train Score: %.2f RMSE' % (trainScore))\n",
        "testScore = math.sqrt(mean_squared_error(testY[0], testPredict[:,0]))\n",
        "print('Test Score: %.2f RMSE' % (testScore))"
      ],
      "metadata": {
        "colab": {
          "base_uri": "https://localhost:8080/"
        },
        "id": "MVlq8jGMGopp",
        "outputId": "3cf842bc-05e8-4ddd-a82c-67a55d76ad9d"
      },
      "execution_count": 20,
      "outputs": [
        {
          "output_type": "stream",
          "name": "stdout",
          "text": [
            "Train Score: 2.36 RMSE\n",
            "Test Score: 8.47 RMSE\n"
          ]
        }
      ]
    },
    {
      "cell_type": "code",
      "source": [
        "# shift train predictions for plotting\n",
        "trainPredictPlot = numpy.empty_like(dataset)\n",
        "trainPredictPlot[:, :] = numpy.nan\n",
        "trainPredictPlot[look_back:len(trainPredict)+look_back, :] = trainPredict\n",
        "\n",
        "# shift test predictions for plotting\n",
        "testPredictPlot = numpy.empty_like(dataset)\n",
        "testPredictPlot[:, :] = numpy.nan\n",
        "testPredictPlot[len(trainPredict)+(look_back*2)+1:len(dataset)-1, :] = testPredict\n",
        "\n",
        "# plot baseline and predictions\n",
        "plt.plot(scaler.inverse_transform(dataset))\n",
        "plt.plot(trainPredictPlot)\n",
        "plt.plot(testPredictPlot)\n",
        "plt.show()"
      ],
      "metadata": {
        "colab": {
          "base_uri": "https://localhost:8080/",
          "height": 265
        },
        "id": "K-Y8pynvGsFu",
        "outputId": "c324168d-7f1f-49a4-cfa3-f0e802342ea1"
      },
      "execution_count": 21,
      "outputs": [
        {
          "output_type": "display_data",
          "data": {
            "image/png": "[encoded data removed]",
            "text/plain": [
              "<Figure size 432x288 with 1 Axes>"
            ]
          },
          "metadata": {
            "needs_background": "light"
          }
        }
      ]
    },
    {
      "cell_type": "code",
      "source": [
        "# https://scikit-learn.org/stable/modules/generated/sklearn.metrics.accuracy_score.html\n",
        "from sklearn.metrics import accuracy_score\n",
        "accuracy_score(??y??, testPredict)"
      ],
      "metadata": {
        "colab": {
          "base_uri": "https://localhost:8080/",
          "height": 134
        },
        "id": "-agUouaLUtM7",
        "outputId": "4f032d90-7f91-4cfd-8391-bac12da08831"
      },
      "execution_count": 2,
      "outputs": [
        {
          "output_type": "error",
          "ename": "SyntaxError",
          "evalue": "ignored",
          "traceback": [
            "\u001b[0;36m  File \u001b[0;32m\"<ipython-input-2-823a3d89c31a>\"\u001b[0;36m, line \u001b[0;32m3\u001b[0m\n\u001b[0;31m    accuracy_score(??y??, testPredict)\u001b[0m\n\u001b[0m                   ^\u001b[0m\n\u001b[0;31mSyntaxError\u001b[0m\u001b[0;31m:\u001b[0m invalid syntax\n"
          ]
        }
      ]
    },
    {
      "cell_type": "code",
      "source": [
        "testPredict"
      ],
      "metadata": {
        "colab": {
          "base_uri": "https://localhost:8080/"
        },
        "id": "X6j26NIfVOOf",
        "outputId": "44717b80-6c32-414f-e60a-8c1189eb7124"
      },
      "execution_count": 30,
      "outputs": [
        {
          "output_type": "execute_result",
          "data": {
            "text/plain": [
              "array([[175.24011],\n",
              "       [174.66376],\n",
              "       [173.37598],\n",
              "       [173.1949 ],\n",
              "       [172.99747],\n",
              "       [173.08989],\n",
              "       [171.81386],\n",
              "       [171.88971],\n",
              "       [171.31712],\n",
              "       [171.06857],\n",
              "       [170.48293],\n",
              "       [169.53694],\n",
              "       [168.87991],\n",
              "       [168.26994],\n",
              "       [167.20798],\n",
              "       [165.98729],\n",
              "       [164.51183],\n",
              "       [163.82428],\n",
              "       [162.99911],\n",
              "       [162.63802],\n",
              "       [162.29056],\n",
              "       [162.51169],\n",
              "       [163.89203],\n",
              "       [165.79555],\n",
              "       [167.54782],\n",
              "       [168.98499],\n",
              "       [171.01173],\n",
              "       [173.11584],\n",
              "       [175.23274],\n",
              "       [177.01593],\n",
              "       [180.09998],\n",
              "       [182.74756],\n",
              "       [185.47719],\n",
              "       [189.61346],\n",
              "       [194.51698],\n",
              "       [197.60944],\n",
              "       [200.99004],\n",
              "       [204.47725],\n",
              "       [208.52151],\n",
              "       [211.31586],\n",
              "       [214.17775],\n",
              "       [215.53029],\n",
              "       [216.59447],\n",
              "       [216.94972],\n",
              "       [218.67294],\n",
              "       [220.45464],\n",
              "       [220.80818],\n",
              "       [221.13367],\n",
              "       [221.72243],\n",
              "       [222.30257],\n",
              "       [222.35486],\n",
              "       [223.01599],\n",
              "       [224.66196],\n",
              "       [226.4213 ],\n",
              "       [228.01552],\n",
              "       [228.20587],\n",
              "       [230.25992],\n",
              "       [231.49306],\n",
              "       [232.8662 ],\n",
              "       [233.94301],\n",
              "       [234.77266],\n",
              "       [235.29492],\n",
              "       [235.83142],\n",
              "       [236.83054],\n",
              "       [238.02678],\n",
              "       [239.45523],\n",
              "       [240.86226],\n",
              "       [242.51913],\n",
              "       [244.2765 ],\n",
              "       [244.78688],\n",
              "       [245.27902],\n",
              "       [245.74643],\n",
              "       [246.44618],\n",
              "       [247.59044],\n",
              "       [248.76291],\n",
              "       [249.93556],\n",
              "       [250.4605 ],\n",
              "       [251.50807],\n",
              "       [252.66779],\n",
              "       [254.14476],\n",
              "       [254.9478 ],\n",
              "       [256.17566],\n",
              "       [256.60794],\n",
              "       [258.2286 ],\n",
              "       [258.99402],\n",
              "       [261.55402],\n",
              "       [262.5593 ],\n",
              "       [263.93378],\n",
              "       [264.98996],\n",
              "       [267.16278],\n",
              "       [269.1003 ],\n",
              "       [270.77472],\n",
              "       [273.08585],\n",
              "       [273.99017],\n",
              "       [275.02814],\n",
              "       [275.29645],\n",
              "       [275.85132],\n",
              "       [276.24756],\n",
              "       [276.79996],\n",
              "       [276.73   ],\n",
              "       [277.31897],\n",
              "       [276.91776],\n",
              "       [277.6448 ],\n",
              "       [277.07468],\n",
              "       [277.04602],\n",
              "       [276.97253],\n",
              "       [278.203  ],\n",
              "       [279.74167],\n",
              "       [279.27637],\n",
              "       [279.00934],\n",
              "       [279.2781 ],\n",
              "       [280.68896],\n",
              "       [281.8941 ],\n",
              "       [283.18686],\n",
              "       [283.7251 ],\n",
              "       [285.01727],\n",
              "       [285.80157],\n",
              "       [286.91656],\n",
              "       [287.69464],\n",
              "       [288.0184 ],\n",
              "       [288.38974],\n",
              "       [291.5748 ],\n",
              "       [295.2054 ],\n",
              "       [298.48874],\n",
              "       [301.34616],\n",
              "       [304.06274],\n",
              "       [306.83905],\n",
              "       [309.98196],\n",
              "       [313.33563],\n",
              "       [317.5582 ],\n",
              "       [321.10455],\n",
              "       [325.9803 ],\n",
              "       [329.9004 ],\n",
              "       [333.89108],\n",
              "       [336.25766],\n",
              "       [339.2029 ],\n",
              "       [342.65082]], dtype=float32)"
            ]
          },
          "metadata": {},
          "execution_count": 30
        }
      ]
    },
    {
      "cell_type": "code",
      "source": [
        ""
      ],
      "metadata": {
        "id": "ieiBfgnvWlzG"
      },
      "execution_count": null,
      "outputs": []
    }
  ]
}